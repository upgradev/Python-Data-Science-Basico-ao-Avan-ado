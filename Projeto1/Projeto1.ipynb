{
 "cells": [
  {
   "cell_type": "code",
   "execution_count": 25,
   "metadata": {},
   "outputs": [],
   "source": [
    "import pandas as pd\n",
    "import plotly.express as px\n",
    "import smtplib\n",
    "import email.message\n",
    "from babel.numbers import format_currency \n",
    "\n",
    "\n",
    "\n",
    "tabela_vendas = pd.read_excel(\"./vendas.xlsx\")"
   ]
  },
  {
   "cell_type": "code",
   "execution_count": 26,
   "metadata": {},
   "outputs": [
    {
     "data": {
      "text/html": [
       "<div>\n",
       "<style scoped>\n",
       "    .dataframe tbody tr th:only-of-type {\n",
       "        vertical-align: middle;\n",
       "    }\n",
       "\n",
       "    .dataframe tbody tr th {\n",
       "        vertical-align: top;\n",
       "    }\n",
       "\n",
       "    .dataframe thead th {\n",
       "        text-align: right;\n",
       "    }\n",
       "</style>\n",
       "<table border=\"1\" class=\"dataframe\">\n",
       "  <thead>\n",
       "    <tr style=\"text-align: right;\">\n",
       "      <th></th>\n",
       "      <th>Quantidade</th>\n",
       "    </tr>\n",
       "    <tr>\n",
       "      <th>Produto</th>\n",
       "      <th></th>\n",
       "    </tr>\n",
       "  </thead>\n",
       "  <tbody>\n",
       "    <tr>\n",
       "      <th>Impressora</th>\n",
       "      <td>13285</td>\n",
       "    </tr>\n",
       "    <tr>\n",
       "      <th>Notebook</th>\n",
       "      <td>12930</td>\n",
       "    </tr>\n",
       "    <tr>\n",
       "      <th>Monitor</th>\n",
       "      <td>9923</td>\n",
       "    </tr>\n",
       "    <tr>\n",
       "      <th>Nobreak</th>\n",
       "      <td>6778</td>\n",
       "    </tr>\n",
       "    <tr>\n",
       "      <th>Tablet</th>\n",
       "      <td>6684</td>\n",
       "    </tr>\n",
       "    <tr>\n",
       "      <th>Teclado</th>\n",
       "      <td>6631</td>\n",
       "    </tr>\n",
       "    <tr>\n",
       "      <th>Webcam</th>\n",
       "      <td>6562</td>\n",
       "    </tr>\n",
       "    <tr>\n",
       "      <th>Caixa de som</th>\n",
       "      <td>6535</td>\n",
       "    </tr>\n",
       "    <tr>\n",
       "      <th>PC</th>\n",
       "      <td>6518</td>\n",
       "    </tr>\n",
       "    <tr>\n",
       "      <th>Mouse</th>\n",
       "      <td>6481</td>\n",
       "    </tr>\n",
       "  </tbody>\n",
       "</table>\n",
       "</div>"
      ],
      "text/plain": [
       "              Quantidade\n",
       "Produto                 \n",
       "Impressora         13285\n",
       "Notebook           12930\n",
       "Monitor             9923\n",
       "Nobreak             6778\n",
       "Tablet              6684\n",
       "Teclado             6631\n",
       "Webcam              6562\n",
       "Caixa de som        6535\n",
       "PC                  6518\n",
       "Mouse               6481"
      ]
     },
     "metadata": {},
     "output_type": "display_data"
    }
   ],
   "source": [
    "# Calcular o produto mais vendido (em quantidade)\n",
    "tb_quantidade_produto = tabela_vendas.groupby('Produto').sum()\n",
    "tb_quantidade_produto = tb_quantidade_produto.filter(['Quantidade'])\n",
    "tb_quantidade_produto = tb_quantidade_produto.sort_values(by='Quantidade', ascending=False)\n",
    "display(tb_quantidade_produto)"
   ]
  },
  {
   "cell_type": "code",
   "execution_count": 27,
   "metadata": {},
   "outputs": [
    {
     "data": {
      "text/html": [
       "<div>\n",
       "<style scoped>\n",
       "    .dataframe tbody tr th:only-of-type {\n",
       "        vertical-align: middle;\n",
       "    }\n",
       "\n",
       "    .dataframe tbody tr th {\n",
       "        vertical-align: top;\n",
       "    }\n",
       "\n",
       "    .dataframe thead th {\n",
       "        text-align: right;\n",
       "    }\n",
       "</style>\n",
       "<table border=\"1\" class=\"dataframe\">\n",
       "  <thead>\n",
       "    <tr style=\"text-align: right;\">\n",
       "      <th></th>\n",
       "      <th>Cód.</th>\n",
       "      <th>Data</th>\n",
       "      <th>Loja</th>\n",
       "      <th>Produto</th>\n",
       "      <th>Quantidade</th>\n",
       "      <th>Valor Unitário</th>\n",
       "      <th>Faturamento</th>\n",
       "    </tr>\n",
       "  </thead>\n",
       "  <tbody>\n",
       "    <tr>\n",
       "      <th>0</th>\n",
       "      <td>1</td>\n",
       "      <td>5/18/2022</td>\n",
       "      <td>Maranhão</td>\n",
       "      <td>Caixa de som</td>\n",
       "      <td>4</td>\n",
       "      <td>79</td>\n",
       "      <td>316</td>\n",
       "    </tr>\n",
       "    <tr>\n",
       "      <th>1</th>\n",
       "      <td>2</td>\n",
       "      <td>7/24/2022</td>\n",
       "      <td>Santa Catarina</td>\n",
       "      <td>Notebook</td>\n",
       "      <td>9</td>\n",
       "      <td>3789</td>\n",
       "      <td>34101</td>\n",
       "    </tr>\n",
       "    <tr>\n",
       "      <th>2</th>\n",
       "      <td>3</td>\n",
       "      <td>12/20/2022</td>\n",
       "      <td>Rio de Janeiro</td>\n",
       "      <td>Notebook</td>\n",
       "      <td>3</td>\n",
       "      <td>3789</td>\n",
       "      <td>11367</td>\n",
       "    </tr>\n",
       "    <tr>\n",
       "      <th>3</th>\n",
       "      <td>4</td>\n",
       "      <td>1/22/2022</td>\n",
       "      <td>Espírito Santo</td>\n",
       "      <td>Nobreak</td>\n",
       "      <td>9</td>\n",
       "      <td>1279</td>\n",
       "      <td>11511</td>\n",
       "    </tr>\n",
       "    <tr>\n",
       "      <th>4</th>\n",
       "      <td>5</td>\n",
       "      <td>9/11/2022</td>\n",
       "      <td>Tocantins</td>\n",
       "      <td>Impressora</td>\n",
       "      <td>9</td>\n",
       "      <td>699</td>\n",
       "      <td>6291</td>\n",
       "    </tr>\n",
       "    <tr>\n",
       "      <th>...</th>\n",
       "      <td>...</td>\n",
       "      <td>...</td>\n",
       "      <td>...</td>\n",
       "      <td>...</td>\n",
       "      <td>...</td>\n",
       "      <td>...</td>\n",
       "      <td>...</td>\n",
       "    </tr>\n",
       "    <tr>\n",
       "      <th>14995</th>\n",
       "      <td>14996</td>\n",
       "      <td>8/18/2022</td>\n",
       "      <td>São Paulo</td>\n",
       "      <td>Webcam</td>\n",
       "      <td>4</td>\n",
       "      <td>150</td>\n",
       "      <td>600</td>\n",
       "    </tr>\n",
       "    <tr>\n",
       "      <th>14996</th>\n",
       "      <td>14997</td>\n",
       "      <td>1/6/2022</td>\n",
       "      <td>São Paulo</td>\n",
       "      <td>Impressora</td>\n",
       "      <td>9</td>\n",
       "      <td>699</td>\n",
       "      <td>6291</td>\n",
       "    </tr>\n",
       "    <tr>\n",
       "      <th>14997</th>\n",
       "      <td>14998</td>\n",
       "      <td>11/13/2022</td>\n",
       "      <td>São Paulo</td>\n",
       "      <td>Notebook</td>\n",
       "      <td>9</td>\n",
       "      <td>3789</td>\n",
       "      <td>34101</td>\n",
       "    </tr>\n",
       "    <tr>\n",
       "      <th>14998</th>\n",
       "      <td>14999</td>\n",
       "      <td>6/29/2022</td>\n",
       "      <td>São Paulo</td>\n",
       "      <td>Caixa de som</td>\n",
       "      <td>6</td>\n",
       "      <td>79</td>\n",
       "      <td>474</td>\n",
       "    </tr>\n",
       "    <tr>\n",
       "      <th>14999</th>\n",
       "      <td>15000</td>\n",
       "      <td>9/5/2022</td>\n",
       "      <td>Minas Gerais</td>\n",
       "      <td>Tablet</td>\n",
       "      <td>3</td>\n",
       "      <td>1349</td>\n",
       "      <td>4047</td>\n",
       "    </tr>\n",
       "  </tbody>\n",
       "</table>\n",
       "<p>15000 rows × 7 columns</p>\n",
       "</div>"
      ],
      "text/plain": [
       "        Cód.        Data            Loja       Produto  Quantidade  \\\n",
       "0          1   5/18/2022        Maranhão  Caixa de som           4   \n",
       "1          2   7/24/2022  Santa Catarina      Notebook           9   \n",
       "2          3  12/20/2022  Rio de Janeiro      Notebook           3   \n",
       "3          4   1/22/2022  Espírito Santo       Nobreak           9   \n",
       "4          5   9/11/2022       Tocantins    Impressora           9   \n",
       "...      ...         ...             ...           ...         ...   \n",
       "14995  14996   8/18/2022       São Paulo        Webcam           4   \n",
       "14996  14997    1/6/2022       São Paulo    Impressora           9   \n",
       "14997  14998  11/13/2022       São Paulo      Notebook           9   \n",
       "14998  14999   6/29/2022       São Paulo  Caixa de som           6   \n",
       "14999  15000    9/5/2022    Minas Gerais        Tablet           3   \n",
       "\n",
       "       Valor Unitário  Faturamento  \n",
       "0                  79          316  \n",
       "1                3789        34101  \n",
       "2                3789        11367  \n",
       "3                1279        11511  \n",
       "4                 699         6291  \n",
       "...               ...          ...  \n",
       "14995             150          600  \n",
       "14996             699         6291  \n",
       "14997            3789        34101  \n",
       "14998              79          474  \n",
       "14999            1349         4047  \n",
       "\n",
       "[15000 rows x 7 columns]"
      ]
     },
     "metadata": {},
     "output_type": "display_data"
    }
   ],
   "source": [
    "# Calcular o produto mais vendido (em faturamento)\n",
    "\n",
    "tabela_vendas['Faturamento'] = tabela_vendas['Quantidade'] * tabela_vendas[\"Valor Unitário\"]\n",
    "display(tabela_vendas)"
   ]
  },
  {
   "cell_type": "code",
   "execution_count": 28,
   "metadata": {},
   "outputs": [
    {
     "data": {
      "text/html": [
       "<div>\n",
       "<style scoped>\n",
       "    .dataframe tbody tr th:only-of-type {\n",
       "        vertical-align: middle;\n",
       "    }\n",
       "\n",
       "    .dataframe tbody tr th {\n",
       "        vertical-align: top;\n",
       "    }\n",
       "\n",
       "    .dataframe thead th {\n",
       "        text-align: right;\n",
       "    }\n",
       "</style>\n",
       "<table border=\"1\" class=\"dataframe\">\n",
       "  <thead>\n",
       "    <tr style=\"text-align: right;\">\n",
       "      <th></th>\n",
       "      <th>Faturamento</th>\n",
       "    </tr>\n",
       "    <tr>\n",
       "      <th>Produto</th>\n",
       "      <th></th>\n",
       "    </tr>\n",
       "  </thead>\n",
       "  <tbody>\n",
       "    <tr>\n",
       "      <th>Notebook</th>\n",
       "      <td>48991770</td>\n",
       "    </tr>\n",
       "    <tr>\n",
       "      <th>PC</th>\n",
       "      <td>38456200</td>\n",
       "    </tr>\n",
       "    <tr>\n",
       "      <th>Monitor</th>\n",
       "      <td>11907600</td>\n",
       "    </tr>\n",
       "    <tr>\n",
       "      <th>Impressora</th>\n",
       "      <td>9286215</td>\n",
       "    </tr>\n",
       "    <tr>\n",
       "      <th>Tablet</th>\n",
       "      <td>9016716</td>\n",
       "    </tr>\n",
       "    <tr>\n",
       "      <th>Nobreak</th>\n",
       "      <td>8669062</td>\n",
       "    </tr>\n",
       "    <tr>\n",
       "      <th>Teclado</th>\n",
       "      <td>1193580</td>\n",
       "    </tr>\n",
       "    <tr>\n",
       "      <th>Webcam</th>\n",
       "      <td>984300</td>\n",
       "    </tr>\n",
       "    <tr>\n",
       "      <th>Mouse</th>\n",
       "      <td>725872</td>\n",
       "    </tr>\n",
       "    <tr>\n",
       "      <th>Caixa de som</th>\n",
       "      <td>516265</td>\n",
       "    </tr>\n",
       "  </tbody>\n",
       "</table>\n",
       "</div>"
      ],
      "text/plain": [
       "              Faturamento\n",
       "Produto                  \n",
       "Notebook         48991770\n",
       "PC               38456200\n",
       "Monitor          11907600\n",
       "Impressora        9286215\n",
       "Tablet            9016716\n",
       "Nobreak           8669062\n",
       "Teclado           1193580\n",
       "Webcam             984300\n",
       "Mouse              725872\n",
       "Caixa de som       516265"
      ]
     },
     "metadata": {},
     "output_type": "display_data"
    }
   ],
   "source": [
    "tb_faturamento_produto = tabela_vendas.groupby(\"Produto\").sum()\n",
    "tb_faturamento_produto = tb_faturamento_produto.filter(\n",
    "    [\"Faturamento\"]).sort_values(by=\"Faturamento\", ascending=False)\n",
    "display(tb_faturamento_produto)"
   ]
  },
  {
   "cell_type": "code",
   "execution_count": 29,
   "metadata": {},
   "outputs": [
    {
     "data": {
      "text/html": [
       "<div>\n",
       "<style scoped>\n",
       "    .dataframe tbody tr th:only-of-type {\n",
       "        vertical-align: middle;\n",
       "    }\n",
       "\n",
       "    .dataframe tbody tr th {\n",
       "        vertical-align: top;\n",
       "    }\n",
       "\n",
       "    .dataframe thead th {\n",
       "        text-align: right;\n",
       "    }\n",
       "</style>\n",
       "<table border=\"1\" class=\"dataframe\">\n",
       "  <thead>\n",
       "    <tr style=\"text-align: right;\">\n",
       "      <th></th>\n",
       "      <th>Faturamento</th>\n",
       "    </tr>\n",
       "    <tr>\n",
       "      <th>Loja</th>\n",
       "      <th></th>\n",
       "    </tr>\n",
       "  </thead>\n",
       "  <tbody>\n",
       "    <tr>\n",
       "      <th>São Paulo</th>\n",
       "      <td>41018776</td>\n",
       "    </tr>\n",
       "    <tr>\n",
       "      <th>Rio de Janeiro</th>\n",
       "      <td>12274351</td>\n",
       "    </tr>\n",
       "    <tr>\n",
       "      <th>Minas Gerais</th>\n",
       "      <td>11491527</td>\n",
       "    </tr>\n",
       "    <tr>\n",
       "      <th>Paraná</th>\n",
       "      <td>7611645</td>\n",
       "    </tr>\n",
       "    <tr>\n",
       "      <th>Pernambuco</th>\n",
       "      <td>7041123</td>\n",
       "    </tr>\n",
       "    <tr>\n",
       "      <th>Rio Grande do Sul</th>\n",
       "      <td>6618703</td>\n",
       "    </tr>\n",
       "    <tr>\n",
       "      <th>Goiás</th>\n",
       "      <td>6288009</td>\n",
       "    </tr>\n",
       "    <tr>\n",
       "      <th>Bahia</th>\n",
       "      <td>5030257</td>\n",
       "    </tr>\n",
       "    <tr>\n",
       "      <th>Santa Catarina</th>\n",
       "      <td>4971700</td>\n",
       "    </tr>\n",
       "    <tr>\n",
       "      <th>Distrito Federal</th>\n",
       "      <td>4355565</td>\n",
       "    </tr>\n",
       "    <tr>\n",
       "      <th>Espírito Santo</th>\n",
       "      <td>3523731</td>\n",
       "    </tr>\n",
       "    <tr>\n",
       "      <th>Pará</th>\n",
       "      <td>2932941</td>\n",
       "    </tr>\n",
       "    <tr>\n",
       "      <th>Ceará</th>\n",
       "      <td>2925202</td>\n",
       "    </tr>\n",
       "    <tr>\n",
       "      <th>Mato Grosso do Sul</th>\n",
       "      <td>2009149</td>\n",
       "    </tr>\n",
       "    <tr>\n",
       "      <th>Mato Grosso</th>\n",
       "      <td>1708095</td>\n",
       "    </tr>\n",
       "    <tr>\n",
       "      <th>Paraíba</th>\n",
       "      <td>1635059</td>\n",
       "    </tr>\n",
       "    <tr>\n",
       "      <th>Amazonas</th>\n",
       "      <td>1574940</td>\n",
       "    </tr>\n",
       "    <tr>\n",
       "      <th>Rio Grande do Norte</th>\n",
       "      <td>1324966</td>\n",
       "    </tr>\n",
       "    <tr>\n",
       "      <th>Tocantins</th>\n",
       "      <td>1256281</td>\n",
       "    </tr>\n",
       "    <tr>\n",
       "      <th>Piauí</th>\n",
       "      <td>929292</td>\n",
       "    </tr>\n",
       "    <tr>\n",
       "      <th>Maranhão</th>\n",
       "      <td>924990</td>\n",
       "    </tr>\n",
       "    <tr>\n",
       "      <th>Alagoas</th>\n",
       "      <td>872983</td>\n",
       "    </tr>\n",
       "    <tr>\n",
       "      <th>Sergipe</th>\n",
       "      <td>637378</td>\n",
       "    </tr>\n",
       "    <tr>\n",
       "      <th>Rondônia</th>\n",
       "      <td>358665</td>\n",
       "    </tr>\n",
       "    <tr>\n",
       "      <th>Roraima</th>\n",
       "      <td>173428</td>\n",
       "    </tr>\n",
       "    <tr>\n",
       "      <th>Acre</th>\n",
       "      <td>142254</td>\n",
       "    </tr>\n",
       "    <tr>\n",
       "      <th>Amapá</th>\n",
       "      <td>116570</td>\n",
       "    </tr>\n",
       "  </tbody>\n",
       "</table>\n",
       "</div>"
      ],
      "text/plain": [
       "                     Faturamento\n",
       "Loja                            \n",
       "São Paulo               41018776\n",
       "Rio de Janeiro          12274351\n",
       "Minas Gerais            11491527\n",
       "Paraná                   7611645\n",
       "Pernambuco               7041123\n",
       "Rio Grande do Sul        6618703\n",
       "Goiás                    6288009\n",
       "Bahia                    5030257\n",
       "Santa Catarina           4971700\n",
       "Distrito Federal         4355565\n",
       "Espírito Santo           3523731\n",
       "Pará                     2932941\n",
       "Ceará                    2925202\n",
       "Mato Grosso do Sul       2009149\n",
       "Mato Grosso              1708095\n",
       "Paraíba                  1635059\n",
       "Amazonas                 1574940\n",
       "Rio Grande do Norte      1324966\n",
       "Tocantins                1256281\n",
       "Piauí                     929292\n",
       "Maranhão                  924990\n",
       "Alagoas                   872983\n",
       "Sergipe                   637378\n",
       "Rondônia                  358665\n",
       "Roraima                   173428\n",
       "Acre                      142254\n",
       "Amapá                     116570"
      ]
     },
     "metadata": {},
     "output_type": "display_data"
    }
   ],
   "source": [
    "# Calcular qual loja/estado que mais vendeu (em faturamento)\n",
    "tb_faturamento_loja = tabela_vendas.groupby([\"Loja\"]).sum()\n",
    "tb_faturamento_loja =  tb_faturamento_loja.filter([\"Faturamento\"]).sort_values(by=\"Faturamento\", ascending=False)\n",
    "display(tb_faturamento_loja)"
   ]
  },
  {
   "cell_type": "code",
   "execution_count": 30,
   "metadata": {},
   "outputs": [
    {
     "data": {
      "text/html": [
       "<div>\n",
       "<style scoped>\n",
       "    .dataframe tbody tr th:only-of-type {\n",
       "        vertical-align: middle;\n",
       "    }\n",
       "\n",
       "    .dataframe tbody tr th {\n",
       "        vertical-align: top;\n",
       "    }\n",
       "\n",
       "    .dataframe thead th {\n",
       "        text-align: right;\n",
       "    }\n",
       "</style>\n",
       "<table border=\"1\" class=\"dataframe\">\n",
       "  <thead>\n",
       "    <tr style=\"text-align: right;\">\n",
       "      <th></th>\n",
       "      <th>Tiket Medio</th>\n",
       "    </tr>\n",
       "    <tr>\n",
       "      <th>Loja</th>\n",
       "      <th></th>\n",
       "    </tr>\n",
       "  </thead>\n",
       "  <tbody>\n",
       "    <tr>\n",
       "      <th>Acre</th>\n",
       "      <td>2142.769231</td>\n",
       "    </tr>\n",
       "    <tr>\n",
       "      <th>Sergipe</th>\n",
       "      <td>1735.333333</td>\n",
       "    </tr>\n",
       "    <tr>\n",
       "      <th>Tocantins</th>\n",
       "      <td>1734.306452</td>\n",
       "    </tr>\n",
       "    <tr>\n",
       "      <th>Rio Grande do Sul</th>\n",
       "      <td>1690.043909</td>\n",
       "    </tr>\n",
       "    <tr>\n",
       "      <th>Pará</th>\n",
       "      <td>1683.746177</td>\n",
       "    </tr>\n",
       "    <tr>\n",
       "      <th>Santa Catarina</th>\n",
       "      <td>1683.562620</td>\n",
       "    </tr>\n",
       "    <tr>\n",
       "      <th>Pernambuco</th>\n",
       "      <td>1683.036849</td>\n",
       "    </tr>\n",
       "    <tr>\n",
       "      <th>Paraná</th>\n",
       "      <td>1608.725917</td>\n",
       "    </tr>\n",
       "    <tr>\n",
       "      <th>Bahia</th>\n",
       "      <td>1606.045226</td>\n",
       "    </tr>\n",
       "    <tr>\n",
       "      <th>Mato Grosso do Sul</th>\n",
       "      <td>1600.952607</td>\n",
       "    </tr>\n",
       "    <tr>\n",
       "      <th>Rio de Janeiro</th>\n",
       "      <td>1594.396825</td>\n",
       "    </tr>\n",
       "    <tr>\n",
       "      <th>Espírito Santo</th>\n",
       "      <td>1580.024752</td>\n",
       "    </tr>\n",
       "    <tr>\n",
       "      <th>Goiás</th>\n",
       "      <td>1577.605634</td>\n",
       "    </tr>\n",
       "    <tr>\n",
       "      <th>São Paulo</th>\n",
       "      <td>1573.686250</td>\n",
       "    </tr>\n",
       "    <tr>\n",
       "      <th>Mato Grosso</th>\n",
       "      <td>1572.692708</td>\n",
       "    </tr>\n",
       "    <tr>\n",
       "      <th>Piauí</th>\n",
       "      <td>1571.308511</td>\n",
       "    </tr>\n",
       "    <tr>\n",
       "      <th>Maranhão</th>\n",
       "      <td>1561.763158</td>\n",
       "    </tr>\n",
       "    <tr>\n",
       "      <th>Ceará</th>\n",
       "      <td>1540.983871</td>\n",
       "    </tr>\n",
       "    <tr>\n",
       "      <th>Minas Gerais</th>\n",
       "      <td>1526.709104</td>\n",
       "    </tr>\n",
       "    <tr>\n",
       "      <th>Rio Grande do Norte</th>\n",
       "      <td>1515.595238</td>\n",
       "    </tr>\n",
       "    <tr>\n",
       "      <th>Paraíba</th>\n",
       "      <td>1509.593750</td>\n",
       "    </tr>\n",
       "    <tr>\n",
       "      <th>Distrito Federal</th>\n",
       "      <td>1504.994393</td>\n",
       "    </tr>\n",
       "    <tr>\n",
       "      <th>Amazonas</th>\n",
       "      <td>1486.920904</td>\n",
       "    </tr>\n",
       "    <tr>\n",
       "      <th>Alagoas</th>\n",
       "      <td>1430.821138</td>\n",
       "    </tr>\n",
       "    <tr>\n",
       "      <th>Roraima</th>\n",
       "      <td>1369.095238</td>\n",
       "    </tr>\n",
       "    <tr>\n",
       "      <th>Rondônia</th>\n",
       "      <td>1292.000000</td>\n",
       "    </tr>\n",
       "    <tr>\n",
       "      <th>Amapá</th>\n",
       "      <td>966.600000</td>\n",
       "    </tr>\n",
       "  </tbody>\n",
       "</table>\n",
       "</div>"
      ],
      "text/plain": [
       "                     Tiket Medio\n",
       "Loja                            \n",
       "Acre                 2142.769231\n",
       "Sergipe              1735.333333\n",
       "Tocantins            1734.306452\n",
       "Rio Grande do Sul    1690.043909\n",
       "Pará                 1683.746177\n",
       "Santa Catarina       1683.562620\n",
       "Pernambuco           1683.036849\n",
       "Paraná               1608.725917\n",
       "Bahia                1606.045226\n",
       "Mato Grosso do Sul   1600.952607\n",
       "Rio de Janeiro       1594.396825\n",
       "Espírito Santo       1580.024752\n",
       "Goiás                1577.605634\n",
       "São Paulo            1573.686250\n",
       "Mato Grosso          1572.692708\n",
       "Piauí                1571.308511\n",
       "Maranhão             1561.763158\n",
       "Ceará                1540.983871\n",
       "Minas Gerais         1526.709104\n",
       "Rio Grande do Norte  1515.595238\n",
       "Paraíba              1509.593750\n",
       "Distrito Federal     1504.994393\n",
       "Amazonas             1486.920904\n",
       "Alagoas              1430.821138\n",
       "Roraima              1369.095238\n",
       "Rondônia             1292.000000\n",
       "Amapá                 966.600000"
      ]
     },
     "metadata": {},
     "output_type": "display_data"
    }
   ],
   "source": [
    "# Calcular o tiket médio por loja/estado\n",
    "tabela_vendas[\"Tiket Medio\"] = tabela_vendas[\"Valor Unitário\"]\n",
    "tb_ticket_medio = tabela_vendas.groupby([\"Loja\"]).mean(numeric_only=True)\n",
    "tb_ticket_medio = tb_ticket_medio.filter([\"Tiket Medio\"]).sort_values(by=\"Tiket Medio\", ascending=False)\n",
    "display(tb_ticket_medio)"
   ]
  },
  {
   "cell_type": "code",
   "execution_count": 31,
   "metadata": {},
   "outputs": [
    {
     "data": {
      "application/vnd.plotly.v1+json": {
       "config": {
        "plotlyServerURL": "https://plot.ly"
       },
       "data": [
        {
         "alignmentgroup": "True",
         "hovertemplate": "Loja=%{x}<br>Faturamento=%{y}<extra></extra>",
         "legendgroup": "",
         "marker": {
          "color": "#636efa",
          "pattern": {
           "shape": ""
          }
         },
         "name": "",
         "offsetgroup": "",
         "orientation": "v",
         "showlegend": false,
         "textposition": "auto",
         "type": "bar",
         "x": [
          "São Paulo",
          "Rio de Janeiro",
          "Minas Gerais",
          "Paraná",
          "Pernambuco",
          "Rio Grande do Sul",
          "Goiás",
          "Bahia",
          "Santa Catarina",
          "Distrito Federal",
          "Espírito Santo",
          "Pará",
          "Ceará",
          "Mato Grosso do Sul",
          "Mato Grosso",
          "Paraíba",
          "Amazonas",
          "Rio Grande do Norte",
          "Tocantins",
          "Piauí",
          "Maranhão",
          "Alagoas",
          "Sergipe",
          "Rondônia",
          "Roraima",
          "Acre",
          "Amapá"
         ],
         "xaxis": "x",
         "y": [
          41018776,
          12274351,
          11491527,
          7611645,
          7041123,
          6618703,
          6288009,
          5030257,
          4971700,
          4355565,
          3523731,
          2932941,
          2925202,
          2009149,
          1708095,
          1635059,
          1574940,
          1324966,
          1256281,
          929292,
          924990,
          872983,
          637378,
          358665,
          173428,
          142254,
          116570
         ],
         "yaxis": "y"
        }
       ],
       "layout": {
        "barmode": "relative",
        "legend": {
         "tracegroupgap": 0
        },
        "margin": {
         "t": 60
        },
        "template": {
         "data": {
          "bar": [
           {
            "error_x": {
             "color": "#2a3f5f"
            },
            "error_y": {
             "color": "#2a3f5f"
            },
            "marker": {
             "line": {
              "color": "#E5ECF6",
              "width": 0.5
             },
             "pattern": {
              "fillmode": "overlay",
              "size": 10,
              "solidity": 0.2
             }
            },
            "type": "bar"
           }
          ],
          "barpolar": [
           {
            "marker": {
             "line": {
              "color": "#E5ECF6",
              "width": 0.5
             },
             "pattern": {
              "fillmode": "overlay",
              "size": 10,
              "solidity": 0.2
             }
            },
            "type": "barpolar"
           }
          ],
          "carpet": [
           {
            "aaxis": {
             "endlinecolor": "#2a3f5f",
             "gridcolor": "white",
             "linecolor": "white",
             "minorgridcolor": "white",
             "startlinecolor": "#2a3f5f"
            },
            "baxis": {
             "endlinecolor": "#2a3f5f",
             "gridcolor": "white",
             "linecolor": "white",
             "minorgridcolor": "white",
             "startlinecolor": "#2a3f5f"
            },
            "type": "carpet"
           }
          ],
          "choropleth": [
           {
            "colorbar": {
             "outlinewidth": 0,
             "ticks": ""
            },
            "type": "choropleth"
           }
          ],
          "contour": [
           {
            "colorbar": {
             "outlinewidth": 0,
             "ticks": ""
            },
            "colorscale": [
             [
              0,
              "#0d0887"
             ],
             [
              0.1111111111111111,
              "#46039f"
             ],
             [
              0.2222222222222222,
              "#7201a8"
             ],
             [
              0.3333333333333333,
              "#9c179e"
             ],
             [
              0.4444444444444444,
              "#bd3786"
             ],
             [
              0.5555555555555556,
              "#d8576b"
             ],
             [
              0.6666666666666666,
              "#ed7953"
             ],
             [
              0.7777777777777778,
              "#fb9f3a"
             ],
             [
              0.8888888888888888,
              "#fdca26"
             ],
             [
              1,
              "#f0f921"
             ]
            ],
            "type": "contour"
           }
          ],
          "contourcarpet": [
           {
            "colorbar": {
             "outlinewidth": 0,
             "ticks": ""
            },
            "type": "contourcarpet"
           }
          ],
          "heatmap": [
           {
            "colorbar": {
             "outlinewidth": 0,
             "ticks": ""
            },
            "colorscale": [
             [
              0,
              "#0d0887"
             ],
             [
              0.1111111111111111,
              "#46039f"
             ],
             [
              0.2222222222222222,
              "#7201a8"
             ],
             [
              0.3333333333333333,
              "#9c179e"
             ],
             [
              0.4444444444444444,
              "#bd3786"
             ],
             [
              0.5555555555555556,
              "#d8576b"
             ],
             [
              0.6666666666666666,
              "#ed7953"
             ],
             [
              0.7777777777777778,
              "#fb9f3a"
             ],
             [
              0.8888888888888888,
              "#fdca26"
             ],
             [
              1,
              "#f0f921"
             ]
            ],
            "type": "heatmap"
           }
          ],
          "heatmapgl": [
           {
            "colorbar": {
             "outlinewidth": 0,
             "ticks": ""
            },
            "colorscale": [
             [
              0,
              "#0d0887"
             ],
             [
              0.1111111111111111,
              "#46039f"
             ],
             [
              0.2222222222222222,
              "#7201a8"
             ],
             [
              0.3333333333333333,
              "#9c179e"
             ],
             [
              0.4444444444444444,
              "#bd3786"
             ],
             [
              0.5555555555555556,
              "#d8576b"
             ],
             [
              0.6666666666666666,
              "#ed7953"
             ],
             [
              0.7777777777777778,
              "#fb9f3a"
             ],
             [
              0.8888888888888888,
              "#fdca26"
             ],
             [
              1,
              "#f0f921"
             ]
            ],
            "type": "heatmapgl"
           }
          ],
          "histogram": [
           {
            "marker": {
             "pattern": {
              "fillmode": "overlay",
              "size": 10,
              "solidity": 0.2
             }
            },
            "type": "histogram"
           }
          ],
          "histogram2d": [
           {
            "colorbar": {
             "outlinewidth": 0,
             "ticks": ""
            },
            "colorscale": [
             [
              0,
              "#0d0887"
             ],
             [
              0.1111111111111111,
              "#46039f"
             ],
             [
              0.2222222222222222,
              "#7201a8"
             ],
             [
              0.3333333333333333,
              "#9c179e"
             ],
             [
              0.4444444444444444,
              "#bd3786"
             ],
             [
              0.5555555555555556,
              "#d8576b"
             ],
             [
              0.6666666666666666,
              "#ed7953"
             ],
             [
              0.7777777777777778,
              "#fb9f3a"
             ],
             [
              0.8888888888888888,
              "#fdca26"
             ],
             [
              1,
              "#f0f921"
             ]
            ],
            "type": "histogram2d"
           }
          ],
          "histogram2dcontour": [
           {
            "colorbar": {
             "outlinewidth": 0,
             "ticks": ""
            },
            "colorscale": [
             [
              0,
              "#0d0887"
             ],
             [
              0.1111111111111111,
              "#46039f"
             ],
             [
              0.2222222222222222,
              "#7201a8"
             ],
             [
              0.3333333333333333,
              "#9c179e"
             ],
             [
              0.4444444444444444,
              "#bd3786"
             ],
             [
              0.5555555555555556,
              "#d8576b"
             ],
             [
              0.6666666666666666,
              "#ed7953"
             ],
             [
              0.7777777777777778,
              "#fb9f3a"
             ],
             [
              0.8888888888888888,
              "#fdca26"
             ],
             [
              1,
              "#f0f921"
             ]
            ],
            "type": "histogram2dcontour"
           }
          ],
          "mesh3d": [
           {
            "colorbar": {
             "outlinewidth": 0,
             "ticks": ""
            },
            "type": "mesh3d"
           }
          ],
          "parcoords": [
           {
            "line": {
             "colorbar": {
              "outlinewidth": 0,
              "ticks": ""
             }
            },
            "type": "parcoords"
           }
          ],
          "pie": [
           {
            "automargin": true,
            "type": "pie"
           }
          ],
          "scatter": [
           {
            "fillpattern": {
             "fillmode": "overlay",
             "size": 10,
             "solidity": 0.2
            },
            "type": "scatter"
           }
          ],
          "scatter3d": [
           {
            "line": {
             "colorbar": {
              "outlinewidth": 0,
              "ticks": ""
             }
            },
            "marker": {
             "colorbar": {
              "outlinewidth": 0,
              "ticks": ""
             }
            },
            "type": "scatter3d"
           }
          ],
          "scattercarpet": [
           {
            "marker": {
             "colorbar": {
              "outlinewidth": 0,
              "ticks": ""
             }
            },
            "type": "scattercarpet"
           }
          ],
          "scattergeo": [
           {
            "marker": {
             "colorbar": {
              "outlinewidth": 0,
              "ticks": ""
             }
            },
            "type": "scattergeo"
           }
          ],
          "scattergl": [
           {
            "marker": {
             "colorbar": {
              "outlinewidth": 0,
              "ticks": ""
             }
            },
            "type": "scattergl"
           }
          ],
          "scattermapbox": [
           {
            "marker": {
             "colorbar": {
              "outlinewidth": 0,
              "ticks": ""
             }
            },
            "type": "scattermapbox"
           }
          ],
          "scatterpolar": [
           {
            "marker": {
             "colorbar": {
              "outlinewidth": 0,
              "ticks": ""
             }
            },
            "type": "scatterpolar"
           }
          ],
          "scatterpolargl": [
           {
            "marker": {
             "colorbar": {
              "outlinewidth": 0,
              "ticks": ""
             }
            },
            "type": "scatterpolargl"
           }
          ],
          "scatterternary": [
           {
            "marker": {
             "colorbar": {
              "outlinewidth": 0,
              "ticks": ""
             }
            },
            "type": "scatterternary"
           }
          ],
          "surface": [
           {
            "colorbar": {
             "outlinewidth": 0,
             "ticks": ""
            },
            "colorscale": [
             [
              0,
              "#0d0887"
             ],
             [
              0.1111111111111111,
              "#46039f"
             ],
             [
              0.2222222222222222,
              "#7201a8"
             ],
             [
              0.3333333333333333,
              "#9c179e"
             ],
             [
              0.4444444444444444,
              "#bd3786"
             ],
             [
              0.5555555555555556,
              "#d8576b"
             ],
             [
              0.6666666666666666,
              "#ed7953"
             ],
             [
              0.7777777777777778,
              "#fb9f3a"
             ],
             [
              0.8888888888888888,
              "#fdca26"
             ],
             [
              1,
              "#f0f921"
             ]
            ],
            "type": "surface"
           }
          ],
          "table": [
           {
            "cells": {
             "fill": {
              "color": "#EBF0F8"
             },
             "line": {
              "color": "white"
             }
            },
            "header": {
             "fill": {
              "color": "#C8D4E3"
             },
             "line": {
              "color": "white"
             }
            },
            "type": "table"
           }
          ]
         },
         "layout": {
          "annotationdefaults": {
           "arrowcolor": "#2a3f5f",
           "arrowhead": 0,
           "arrowwidth": 1
          },
          "autotypenumbers": "strict",
          "coloraxis": {
           "colorbar": {
            "outlinewidth": 0,
            "ticks": ""
           }
          },
          "colorscale": {
           "diverging": [
            [
             0,
             "#8e0152"
            ],
            [
             0.1,
             "#c51b7d"
            ],
            [
             0.2,
             "#de77ae"
            ],
            [
             0.3,
             "#f1b6da"
            ],
            [
             0.4,
             "#fde0ef"
            ],
            [
             0.5,
             "#f7f7f7"
            ],
            [
             0.6,
             "#e6f5d0"
            ],
            [
             0.7,
             "#b8e186"
            ],
            [
             0.8,
             "#7fbc41"
            ],
            [
             0.9,
             "#4d9221"
            ],
            [
             1,
             "#276419"
            ]
           ],
           "sequential": [
            [
             0,
             "#0d0887"
            ],
            [
             0.1111111111111111,
             "#46039f"
            ],
            [
             0.2222222222222222,
             "#7201a8"
            ],
            [
             0.3333333333333333,
             "#9c179e"
            ],
            [
             0.4444444444444444,
             "#bd3786"
            ],
            [
             0.5555555555555556,
             "#d8576b"
            ],
            [
             0.6666666666666666,
             "#ed7953"
            ],
            [
             0.7777777777777778,
             "#fb9f3a"
            ],
            [
             0.8888888888888888,
             "#fdca26"
            ],
            [
             1,
             "#f0f921"
            ]
           ],
           "sequentialminus": [
            [
             0,
             "#0d0887"
            ],
            [
             0.1111111111111111,
             "#46039f"
            ],
            [
             0.2222222222222222,
             "#7201a8"
            ],
            [
             0.3333333333333333,
             "#9c179e"
            ],
            [
             0.4444444444444444,
             "#bd3786"
            ],
            [
             0.5555555555555556,
             "#d8576b"
            ],
            [
             0.6666666666666666,
             "#ed7953"
            ],
            [
             0.7777777777777778,
             "#fb9f3a"
            ],
            [
             0.8888888888888888,
             "#fdca26"
            ],
            [
             1,
             "#f0f921"
            ]
           ]
          },
          "colorway": [
           "#636efa",
           "#EF553B",
           "#00cc96",
           "#ab63fa",
           "#FFA15A",
           "#19d3f3",
           "#FF6692",
           "#B6E880",
           "#FF97FF",
           "#FECB52"
          ],
          "font": {
           "color": "#2a3f5f"
          },
          "geo": {
           "bgcolor": "white",
           "lakecolor": "white",
           "landcolor": "#E5ECF6",
           "showlakes": true,
           "showland": true,
           "subunitcolor": "white"
          },
          "hoverlabel": {
           "align": "left"
          },
          "hovermode": "closest",
          "mapbox": {
           "style": "light"
          },
          "paper_bgcolor": "white",
          "plot_bgcolor": "#E5ECF6",
          "polar": {
           "angularaxis": {
            "gridcolor": "white",
            "linecolor": "white",
            "ticks": ""
           },
           "bgcolor": "#E5ECF6",
           "radialaxis": {
            "gridcolor": "white",
            "linecolor": "white",
            "ticks": ""
           }
          },
          "scene": {
           "xaxis": {
            "backgroundcolor": "#E5ECF6",
            "gridcolor": "white",
            "gridwidth": 2,
            "linecolor": "white",
            "showbackground": true,
            "ticks": "",
            "zerolinecolor": "white"
           },
           "yaxis": {
            "backgroundcolor": "#E5ECF6",
            "gridcolor": "white",
            "gridwidth": 2,
            "linecolor": "white",
            "showbackground": true,
            "ticks": "",
            "zerolinecolor": "white"
           },
           "zaxis": {
            "backgroundcolor": "#E5ECF6",
            "gridcolor": "white",
            "gridwidth": 2,
            "linecolor": "white",
            "showbackground": true,
            "ticks": "",
            "zerolinecolor": "white"
           }
          },
          "shapedefaults": {
           "line": {
            "color": "#2a3f5f"
           }
          },
          "ternary": {
           "aaxis": {
            "gridcolor": "white",
            "linecolor": "white",
            "ticks": ""
           },
           "baxis": {
            "gridcolor": "white",
            "linecolor": "white",
            "ticks": ""
           },
           "bgcolor": "#E5ECF6",
           "caxis": {
            "gridcolor": "white",
            "linecolor": "white",
            "ticks": ""
           }
          },
          "title": {
           "x": 0.05
          },
          "xaxis": {
           "automargin": true,
           "gridcolor": "white",
           "linecolor": "white",
           "ticks": "",
           "title": {
            "standoff": 15
           },
           "zerolinecolor": "white",
           "zerolinewidth": 2
          },
          "yaxis": {
           "automargin": true,
           "gridcolor": "white",
           "linecolor": "white",
           "ticks": "",
           "title": {
            "standoff": 15
           },
           "zerolinecolor": "white",
           "zerolinewidth": 2
          }
         }
        },
        "xaxis": {
         "anchor": "y",
         "domain": [
          0,
          1
         ],
         "title": {
          "text": "Loja"
         }
        },
        "yaxis": {
         "anchor": "x",
         "domain": [
          0,
          1
         ],
         "title": {
          "text": "Faturamento"
         }
        }
       }
      }
     },
     "metadata": {},
     "output_type": "display_data"
    }
   ],
   "source": [
    "# Criar gráfico/dashboard da loja/estado que mais vendeu (Em faturamento)\n",
    "\n",
    "grafico = px.bar(data_frame=tb_faturamento_loja, y=tb_faturamento_loja['Faturamento'], x=tb_faturamento_loja.index )\n",
    "grafico.show()"
   ]
  },
  {
   "cell_type": "code",
   "execution_count": 32,
   "metadata": {},
   "outputs": [],
   "source": [
    "# FORMATAÇÕES NUMERICAS E MONETÁRIAS"
   ]
  },
  {
   "cell_type": "markdown",
   "metadata": {},
   "source": [
    "Formatação Loja/Estado que mais vendeu (em faturamento)"
   ]
  },
  {
   "cell_type": "code",
   "execution_count": 33,
   "metadata": {},
   "outputs": [
    {
     "name": "stdout",
     "output_type": "stream",
     "text": [
      "R$ 10.000,00\n"
     ]
    }
   ],
   "source": [
    "from babel.numbers import format_currency \n",
    "\n",
    "\n",
    "\n",
    "valor_formatado = format_currency(10000, \"BRL\", locale=\"pt_BR\")\n",
    "print(valor_formatado)"
   ]
  },
  {
   "cell_type": "code",
   "execution_count": 34,
   "metadata": {},
   "outputs": [
    {
     "name": "stdout",
     "output_type": "stream",
     "text": [
      "                   Loja       Faturamento\n",
      "0             São Paulo  R$ 41.018.776,00\n",
      "1        Rio de Janeiro  R$ 12.274.351,00\n",
      "2          Minas Gerais  R$ 11.491.527,00\n",
      "3                Paraná   R$ 7.611.645,00\n",
      "4            Pernambuco   R$ 7.041.123,00\n",
      "5     Rio Grande do Sul   R$ 6.618.703,00\n",
      "6                 Goiás   R$ 6.288.009,00\n",
      "7                 Bahia   R$ 5.030.257,00\n",
      "8        Santa Catarina   R$ 4.971.700,00\n",
      "9      Distrito Federal   R$ 4.355.565,00\n",
      "10       Espírito Santo   R$ 3.523.731,00\n",
      "11                 Pará   R$ 2.932.941,00\n",
      "12                Ceará   R$ 2.925.202,00\n",
      "13   Mato Grosso do Sul   R$ 2.009.149,00\n",
      "14          Mato Grosso   R$ 1.708.095,00\n",
      "15              Paraíba   R$ 1.635.059,00\n",
      "16             Amazonas   R$ 1.574.940,00\n",
      "17  Rio Grande do Norte   R$ 1.324.966,00\n",
      "18            Tocantins   R$ 1.256.281,00\n",
      "19                Piauí     R$ 929.292,00\n",
      "20             Maranhão     R$ 924.990,00\n",
      "21              Alagoas     R$ 872.983,00\n",
      "22              Sergipe     R$ 637.378,00\n",
      "23             Rondônia     R$ 358.665,00\n",
      "24              Roraima     R$ 173.428,00\n",
      "25                 Acre     R$ 142.254,00\n",
      "26                Amapá     R$ 116.570,00\n"
     ]
    }
   ],
   "source": [
    "# fomatação monetaria\n",
    "tb_faturamento_loja_formatadado = pd.DataFrame(tb_faturamento_loja['Faturamento'].apply(lambda valor: format_currency(valor, \"BRL\", locale=\"pt_BR\")))\n",
    "tb_faturamento_loja_formatadado = tb_faturamento_loja_formatadado.reset_index()\n",
    "\n",
    "# formatacao HTML\n",
    "tb_faturamento_loja_formatadado_html = tb_faturamento_loja_formatadado.to_html(index=False, border=0)\n",
    "\n",
    "print(tb_faturamento_loja_formatadado)\n",
    "# print(tb_faturamento_loja_formatadado_html)"
   ]
  },
  {
   "cell_type": "markdown",
   "metadata": {},
   "source": [
    "Produtos mais vendidos (em quantidade)"
   ]
  },
  {
   "cell_type": "code",
   "execution_count": 35,
   "metadata": {},
   "outputs": [
    {
     "name": "stdout",
     "output_type": "stream",
     "text": [
      "        Produto Quantidade\n",
      "0    Impressora     13.285\n",
      "1      Notebook     12.930\n",
      "2       Monitor      9.923\n",
      "3       Nobreak      6.778\n",
      "4        Tablet      6.684\n",
      "5       Teclado      6.631\n",
      "6        Webcam      6.562\n",
      "7  Caixa de som      6.535\n",
      "8            PC      6.518\n",
      "9         Mouse      6.481\n"
     ]
    }
   ],
   "source": [
    "# qtde = 15000\n",
    "# qtde_formatado = \"{:,}\".format(qtde).replace(\",\", \".\")\n",
    "# print(qtde_formatado)\n",
    "\n",
    "tb_quantidade_produto_formatado = pd.DataFrame(tb_quantidade_produto[\"Quantidade\"].apply(lambda valor: \"{:,}\".format(valor).replace(\",\", \".\")))\n",
    "tb_quantidade_produto_formatado = tb_quantidade_produto_formatado.reset_index()\n",
    "print(tb_quantidade_produto_formatado)"
   ]
  },
  {
   "cell_type": "markdown",
   "metadata": {},
   "source": [
    "Produtos mais vendidos (em faturamento)"
   ]
  },
  {
   "cell_type": "code",
   "execution_count": 36,
   "metadata": {},
   "outputs": [
    {
     "name": "stdout",
     "output_type": "stream",
     "text": [
      "        Produto       Faturamento\n",
      "0      Notebook  R$ 48.991.770,00\n",
      "1            PC  R$ 38.456.200,00\n",
      "2       Monitor  R$ 11.907.600,00\n",
      "3    Impressora   R$ 9.286.215,00\n",
      "4        Tablet   R$ 9.016.716,00\n",
      "5       Nobreak   R$ 8.669.062,00\n",
      "6       Teclado   R$ 1.193.580,00\n",
      "7        Webcam     R$ 984.300,00\n",
      "8         Mouse     R$ 725.872,00\n",
      "9  Caixa de som     R$ 516.265,00\n"
     ]
    }
   ],
   "source": [
    "tb_faturamento_produto_formatadado = pd.DataFrame(tb_faturamento_produto['Faturamento'].apply(lambda valor: format_currency(valor, \"BRL\", locale=\"pt_BR\")))\n",
    "tb_faturamento_produto_formatadado = tb_faturamento_produto_formatadado.reset_index()\n",
    "print(tb_faturamento_produto_formatadado)"
   ]
  },
  {
   "cell_type": "markdown",
   "metadata": {},
   "source": [
    "Ticket Médio por Loja/Estado"
   ]
  },
  {
   "cell_type": "code",
   "execution_count": 37,
   "metadata": {},
   "outputs": [
    {
     "name": "stdout",
     "output_type": "stream",
     "text": [
      "                   Loja  Tiket Medio\n",
      "0                  Acre  R$ 2.142,77\n",
      "1               Sergipe  R$ 1.735,33\n",
      "2             Tocantins  R$ 1.734,31\n",
      "3     Rio Grande do Sul  R$ 1.690,04\n",
      "4                  Pará  R$ 1.683,75\n",
      "5        Santa Catarina  R$ 1.683,56\n",
      "6            Pernambuco  R$ 1.683,04\n",
      "7                Paraná  R$ 1.608,73\n",
      "8                 Bahia  R$ 1.606,05\n",
      "9    Mato Grosso do Sul  R$ 1.600,95\n",
      "10       Rio de Janeiro  R$ 1.594,40\n",
      "11       Espírito Santo  R$ 1.580,02\n",
      "12                Goiás  R$ 1.577,61\n",
      "13            São Paulo  R$ 1.573,69\n",
      "14          Mato Grosso  R$ 1.572,69\n",
      "15                Piauí  R$ 1.571,31\n",
      "16             Maranhão  R$ 1.561,76\n",
      "17                Ceará  R$ 1.540,98\n",
      "18         Minas Gerais  R$ 1.526,71\n",
      "19  Rio Grande do Norte  R$ 1.515,60\n",
      "20              Paraíba  R$ 1.509,59\n",
      "21     Distrito Federal  R$ 1.504,99\n",
      "22             Amazonas  R$ 1.486,92\n",
      "23              Alagoas  R$ 1.430,82\n",
      "24              Roraima  R$ 1.369,10\n",
      "25             Rondônia  R$ 1.292,00\n",
      "26                Amapá    R$ 966,60\n"
     ]
    }
   ],
   "source": [
    "tb_ticket_medio_formatadado = pd.DataFrame(tb_ticket_medio['Tiket Medio'].apply(lambda valor: format_currency(valor, \"BRL\", locale=\"pt_BR\")))\n",
    "tb_ticket_medio_formatadado = tb_ticket_medio_formatadado.reset_index()\n",
    "print(tb_ticket_medio_formatadado)"
   ]
  },
  {
   "cell_type": "markdown",
   "metadata": {},
   "source": [
    "Enviar indicadores de desempenho"
   ]
  },
  {
   "cell_type": "code",
   "execution_count": 41,
   "metadata": {},
   "outputs": [
    {
     "name": "stdout",
     "output_type": "stream",
     "text": [
      "Email enviado\n"
     ]
    }
   ],
   "source": [
    "# # Enviar um email para o setor responsavel\n",
    "\n",
    "corpo_email = f\"\"\"\n",
    "<p>Prezados,</p>\n",
    "<p>Segue o relatório de vendas do mês.</p>\n",
    "\n",
    "<p><b>Faturamento por loja:</b></p>\n",
    "<p>{tb_faturamento_loja_formatadado.to_html(index=False, border=0, justify=\"center\").replace(\"<tbody>\", \"<tbody style='text-align: center; color: #484848; background: #f7f7f7'>\")}</p>\n",
    "\n",
    "\n",
    "<p><b>Quantidade vendida por produto:</b></p>\n",
    "<p>{tb_quantidade_produto_formatado.to_html(index=False, border=0, justify=\"center\").replace(\"<tbody>\", \"<tbody style='text-align: center; color: #484848; background: #f7f7f7'>\")}</p>\n",
    "\n",
    "<p><b>Faturamento por produto:</b></p>\n",
    "<p>{tb_faturamento_produto_formatadado.to_html(index=False, border=0, justify=\"center\").replace(\"<tbody>\", \"<tbody style='text-align: center; color: #484848; background: #f7f7f7'>\")}</p>\n",
    "\n",
    "<p><b>Ticket médio por loja:</b></p>\n",
    "<p>{tb_ticket_medio_formatadado.to_html(index=False, border=0, justify=\"center\").replace(\"<tbody>\", \"<tbody style='text-align: center; color: #484848; background: #f7f7f7'>\")}</p>\n",
    "\n",
    "<p>Qualquer dúvida estou a disposição</p>\n",
    "<p>Att.</p>\n",
    "\"\"\"\n",
    "\n",
    "# CONFIGURAÇÕES PARA O ENVIO\n",
    "msg = email.message.Message()\n",
    "msg['Subject'] = \"Relatório de Vendas\"  # ASSUNTO DO E-MAIL#\n",
    "msg['From'] = ''  # E-MAIL QUE VAI ENVIAR O E-MAIL#\n",
    "\n",
    "msg['To'] = ''  # E-MAIL QUE VAI RECEBER\n",
    "password = ''  # SENHA DO E-MAIL QUE VAI ENVIAR\n",
    "msg.add_header('Content-Type', 'text/html')\n",
    "msg.set_payload(corpo_email)\n",
    "\n",
    "s = smtplib.SMTP('')\n",
    "s.starttls()\n",
    "# Login Credentials for sending the mail\n",
    "s.login(msg['From'], password)\n",
    "s.sendmail(msg['From'], [msg['To']], msg.as_string().encode('utf-8'))\n",
    "print('Email enviado')"
   ]
  }
 ],
 "metadata": {
  "kernelspec": {
   "display_name": "base",
   "language": "python",
   "name": "python3"
  },
  "language_info": {
   "codemirror_mode": {
    "name": "ipython",
    "version": 3
   },
   "file_extension": ".py",
   "mimetype": "text/x-python",
   "name": "python",
   "nbconvert_exporter": "python",
   "pygments_lexer": "ipython3",
   "version": "3.12.4"
  }
 },
 "nbformat": 4,
 "nbformat_minor": 2
}
